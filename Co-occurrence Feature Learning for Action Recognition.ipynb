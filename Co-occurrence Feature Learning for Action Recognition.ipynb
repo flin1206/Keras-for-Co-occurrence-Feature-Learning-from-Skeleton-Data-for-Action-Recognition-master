{
 "cells": [
  {
   "cell_type": "code",
   "execution_count": 1,
   "metadata": {},
   "outputs": [
    {
     "name": "stderr",
     "output_type": "stream",
     "text": [
      "/home/fan/anaconda3/envs/keras/lib/python3.6/site-packages/h5py/__init__.py:36: FutureWarning: Conversion of the second argument of issubdtype from `float` to `np.floating` is deprecated. In future, it will be treated as `np.float64 == np.dtype(float).type`.\n",
      "  from ._conv import register_converters as _register_converters\n",
      "Using TensorFlow backend.\n"
     ]
    }
   ],
   "source": [
    "import numpy as np\n",
    "import math\n",
    "from keras import optimizers\n",
    "from utils import *\n",
    "from model import *"
   ]
  },
  {
   "cell_type": "markdown",
   "metadata": {},
   "source": [
    "# Download the raw dataset if necessary"
   ]
  },
  {
   "cell_type": "code",
   "execution_count": 2,
   "metadata": {},
   "outputs": [],
   "source": [
    "SBU_dir ='/home/fan/projects/skeleton/data/SBU/'"
   ]
  },
  {
   "cell_type": "code",
   "execution_count": 3,
   "metadata": {},
   "outputs": [],
   "source": [
    "#Download dataset\n",
    "'''\n",
    "link = []\n",
    "link.append('http://vision.cs.stonybrook.edu/~kiwon/Datasets/SBU_Kinect_Interactions/s01s02.zip')\n",
    "link.append('http://vision.cs.stonybrook.edu/~kiwon/Datasets/SBU_Kinect_Interactions/s01s03.zip')\n",
    "link.append('http://vision.cs.stonybrook.edu/~kiwon/Datasets/SBU_Kinect_Interactions/s01s07.zip')\n",
    "link.append('http://vision.cs.stonybrook.edu/~kiwon/Datasets/SBU_Kinect_Interactions/s02s01.zip')\n",
    "link.append('http://vision.cs.stonybrook.edu/~kiwon/Datasets/SBU_Kinect_Interactions/s02s03.zip')\n",
    "link.append('http://vision.cs.stonybrook.edu/~kiwon/Datasets/SBU_Kinect_Interactions/s02s06.zip')\n",
    "link.append('http://vision.cs.stonybrook.edu/~kiwon/Datasets/SBU_Kinect_Interactions/s02s07.zip')\n",
    "link.append('http://vision.cs.stonybrook.edu/~kiwon/Datasets/SBU_Kinect_Interactions/s03s02.zip')\n",
    "link.append('http://vision.cs.stonybrook.edu/~kiwon/Datasets/SBU_Kinect_Interactions/s03s04.zip')\n",
    "link.append('http://vision.cs.stonybrook.edu/~kiwon/Datasets/SBU_Kinect_Interactions/s03s05.zip')\n",
    "link.append('http://vision.cs.stonybrook.edu/~kiwon/Datasets/SBU_Kinect_Interactions/s03s06.zip')\n",
    "link.append('http://vision.cs.stonybrook.edu/~kiwon/Datasets/SBU_Kinect_Interactions/s04s02.zip')\n",
    "link.append('http://vision.cs.stonybrook.edu/~kiwon/Datasets/SBU_Kinect_Interactions/s04s03.zip')\n",
    "link.append('http://vision.cs.stonybrook.edu/~kiwon/Datasets/SBU_Kinect_Interactions/s04s06.zip')\n",
    "link.append('http://vision.cs.stonybrook.edu/~kiwon/Datasets/SBU_Kinect_Interactions/s05s02.zip')\n",
    "link.append('http://vision.cs.stonybrook.edu/~kiwon/Datasets/SBU_Kinect_Interactions/s05s03.zip')\n",
    "link.append('http://vision.cs.stonybrook.edu/~kiwon/Datasets/SBU_Kinect_Interactions/s06s02.zip')\n",
    "link.append('http://vision.cs.stonybrook.edu/~kiwon/Datasets/SBU_Kinect_Interactions/s06s03.zip')\n",
    "link.append('http://vision.cs.stonybrook.edu/~kiwon/Datasets/SBU_Kinect_Interactions/s06s04.zip')\n",
    "link.append('http://vision.cs.stonybrook.edu/~kiwon/Datasets/SBU_Kinect_Interactions/s07s01.zip')\n",
    "link.append('http://vision.cs.stonybrook.edu/~kiwon/Datasets/SBU_Kinect_Interactions/s07s03.zip')\n",
    "\n",
    "import wget\n",
    "for i in link:\n",
    "    temp_path = SBU_dir + i.split('/')[-1]\n",
    "    url = i\n",
    "    print(url)\n",
    "    print(temp_path)\n",
    "    wget.download(url=url, out=temp_path)\n",
    "'''"
   ]
  },
  {
   "cell_type": "markdown",
   "metadata": {},
   "source": [
    "# Assign the dataset by choose folder 3 as test set"
   ]
  },
  {
   "cell_type": "code",
   "execution_count": 3,
   "metadata": {},
   "outputs": [
    {
     "name": "stdout",
     "output_type": "stream",
     "text": [
      "loading data from: /home/fan/projects/skeleton/data/SBU/\n",
      "test set folder should be slected from 0 ~ 4\n",
      "slected test folder 3 includes: ['s02s01', 's02s06', 's03s02', 's03s06']\n"
     ]
    }
   ],
   "source": [
    "dataset = SBU_dataset(SBU_dir)\n",
    "train, test = dataset.get_data(3) # slected from 0,1,2,3,4"
   ]
  },
  {
   "cell_type": "markdown",
   "metadata": {},
   "source": [
    "# Initialize the model"
   ]
  },
  {
   "cell_type": "code",
   "execution_count": 4,
   "metadata": {},
   "outputs": [],
   "source": [
    "os.environ[\"CUDA_DEVICE_ORDER\"]=\"PCI_BUS_ID\"   \n",
    "os.environ[\"CUDA_VISIBLE_DEVICES\"]=\"0\""
   ]
  },
  {
   "cell_type": "code",
   "execution_count": 6,
   "metadata": {},
   "outputs": [
    {
     "name": "stdout",
     "output_type": "stream",
     "text": [
      "__________________________________________________________________________________________________\n",
      "Layer (type)                    Output Shape         Param #     Connected to                     \n",
      "==================================================================================================\n",
      "inp_j_0 (InputLayer)            (None, 16, 15, 3)    0                                            \n",
      "__________________________________________________________________________________________________\n",
      "inp_j_diff_0 (InputLayer)       (None, 16, 15, 3)    0                                            \n",
      "__________________________________________________________________________________________________\n",
      "inp_j_1 (InputLayer)            (None, 16, 15, 3)    0                                            \n",
      "__________________________________________________________________________________________________\n",
      "inp_j_diff_1 (InputLayer)       (None, 16, 15, 3)    0                                            \n",
      "__________________________________________________________________________________________________\n",
      "model_3 (Model)                 (None, 4, 4, 64)     11776       inp_j_0[0][0]                    \n",
      "                                                                 inp_j_diff_0[0][0]               \n",
      "                                                                 inp_j_1[0][0]                    \n",
      "                                                                 inp_j_diff_1[0][0]               \n",
      "__________________________________________________________________________________________________\n",
      "maximum_2 (Maximum)             (None, 4, 4, 64)     0           model_3[1][0]                    \n",
      "                                                                 model_3[2][0]                    \n",
      "__________________________________________________________________________________________________\n",
      "flatten_2 (Flatten)             (None, 1024)         0           maximum_2[0][0]                  \n",
      "__________________________________________________________________________________________________\n",
      "dropout_7 (Dropout)             (None, 1024)         0           flatten_2[0][0]                  \n",
      "__________________________________________________________________________________________________\n",
      "dense_3 (Dense)                 (None, 256)          262400      dropout_7[0][0]                  \n",
      "__________________________________________________________________________________________________\n",
      "batch_normalization_18 (BatchNo (None, 256)          1024        dense_3[0][0]                    \n",
      "__________________________________________________________________________________________________\n",
      "leaky_re_lu_18 (LeakyReLU)      (None, 256)          0           batch_normalization_18[0][0]     \n",
      "__________________________________________________________________________________________________\n",
      "dropout_8 (Dropout)             (None, 256)          0           leaky_re_lu_18[0][0]             \n",
      "__________________________________________________________________________________________________\n",
      "dense_4 (Dense)                 (None, 8)            2056        dropout_8[0][0]                  \n",
      "==================================================================================================\n",
      "Total params: 277,256\n",
      "Trainable params: 276,296\n",
      "Non-trainable params: 960\n",
      "__________________________________________________________________________________________________\n"
     ]
    }
   ],
   "source": [
    "lr=0.001\n",
    "adam = optimizers.Adam(lr)\n",
    "model = multi_obj()\n",
    "model.compile(adam, loss='mean_squared_error')\n",
    "model.summary()"
   ]
  },
  {
   "cell_type": "markdown",
   "metadata": {},
   "source": [
    "# Train the model"
   ]
  },
  {
   "cell_type": "code",
   "execution_count": 19,
   "metadata": {
    "scrolled": true
   },
   "outputs": [
    {
     "name": "stdout",
     "output_type": "stream",
     "text": [
      "Epoch 1/1\n",
      "216/216 [==============================] - 3s 12ms/step - loss: 0.0011\n",
      "Epoch 1/1\n",
      "216/216 [==============================] - 0s 984us/step - loss: 0.0012\n",
      "Epoch 1/1\n",
      "216/216 [==============================] - 0s 903us/step - loss: 0.0013\n",
      "Epoch 1/1\n",
      "216/216 [==============================] - 0s 790us/step - loss: 0.0013\n",
      "Epoch 1/1\n",
      "216/216 [==============================] - 0s 775us/step - loss: 5.5415e-04\n",
      "Epoch 1/1\n",
      "216/216 [==============================] - 0s 784us/step - loss: 0.0011\n",
      "Epoch 1/1\n",
      "216/216 [==============================] - 0s 850us/step - loss: 0.0033\n",
      "Epoch 1/1\n",
      "216/216 [==============================] - 0s 911us/step - loss: 0.0023\n",
      "Epoch 1/1\n",
      "216/216 [==============================] - 0s 719us/step - loss: 0.0015\n",
      "Epoch 1/1\n",
      "216/216 [==============================] - 0s 787us/step - loss: 0.0014\n",
      "Epoch 1/1\n",
      "216/216 [==============================] - 0s 842us/step - loss: 0.0018\n",
      "Epoch 1/1\n",
      "216/216 [==============================] - 0s 942us/step - loss: 0.0028\n",
      "Epoch 1/1\n",
      "216/216 [==============================] - 0s 985us/step - loss: 6.5470e-04\n",
      "Epoch 1/1\n",
      "216/216 [==============================] - 0s 669us/step - loss: 0.0022\n",
      "Epoch 1/1\n",
      "216/216 [==============================] - 0s 788us/step - loss: 5.6142e-04\n",
      "Epoch 1/1\n",
      "216/216 [==============================] - 0s 728us/step - loss: 0.0015\n",
      "Epoch 1/1\n",
      "216/216 [==============================] - 0s 922us/step - loss: 3.7272e-04\n",
      "Epoch 1/1\n",
      "216/216 [==============================] - 0s 1ms/step - loss: 0.0016\n",
      "Epoch 1/1\n",
      "216/216 [==============================] - 0s 712us/step - loss: 0.0016\n",
      "Epoch 1/1\n",
      "216/216 [==============================] - 0s 752us/step - loss: 0.0010\n"
     ]
    }
   ],
   "source": [
    "epochs = 400\n",
    "for e in range(epochs):\n",
    "    X_0 = []\n",
    "    X_1 = []\n",
    "    X_2 = []\n",
    "    X_3 = []\n",
    "    Y = []\n",
    "\n",
    "    for i in range(1,9):                 # loop 8 classes\n",
    "        for j in range(len(train[i])):   # loop all samples within the same class\n",
    "            \n",
    "            #First person pose\n",
    "            p_0 = np.copy(train[i][j].T[:,:45])\n",
    "            p_0 = p_0.reshape([-1,15,3])\n",
    "            t_0 = p_0.shape[0]           # the number of all frames\n",
    "            if t_0>16:                   # sample the range from crop size of [16,t_0]\n",
    "                ratio = np.random.uniform(1,t_0/16)\n",
    "                l = int(16*ratio)\n",
    "                start = random.sample(range(t_0-l),1)[0]\n",
    "                end = start+l\n",
    "                p_0 = p_0[start:end,:,:]\n",
    "                p_0 = zoom(p_0)\n",
    "            elif t_0<16:\n",
    "                p_0 = zoom(p_0)\n",
    "\n",
    "            #Second person pose\n",
    "            p_1 = np.copy(train[i][j].T[:,45:])\n",
    "            p_1 = p_1.reshape([-1,15,3])\n",
    "            t_1 = p_1.shape[0]\n",
    "            if t_1 >16:  \n",
    "                ratio = np.random.uniform(1,t_1/16)\n",
    "                l = int(16*ratio)\n",
    "                start = random.sample(range(t_1-l),1)[0]\n",
    "                end = start+l\n",
    "                p_1 = p_1[start:end,:,:]\n",
    "                p_1 = zoom(p_1)\n",
    "            elif t_1 <16:\n",
    "                p_1 = zoom(p_1)\n",
    "            \n",
    "            # randomly mirror augmentation \n",
    "            # since two persions' postion could be switched\n",
    "            if np.random.choice([0,1],1): \n",
    "                p_0, p_1 = mirror(p_0,p_1)\n",
    "            \n",
    "            #Calculate the temporal difference\n",
    "            p_0_diff = p_0[1:,:,:]-p_0[:-1,:,:]\n",
    "            p_0_diff = np.concatenate((p_0_diff,np.expand_dims(p_0_diff[-1,:,:],axis=0)))\n",
    "            p_1_diff = p_1[1:,:,:]-p_1[:-1,:,:]\n",
    "            p_1_diff = np.concatenate((p_1_diff,np.expand_dims(p_1_diff[-1,:,:],axis=0)))\n",
    "\n",
    "            X_0.append(p_0)\n",
    "            X_1.append(p_0_diff)\n",
    "            X_2.append(p_1)\n",
    "            X_3.append(p_1_diff)\n",
    "\n",
    "            label = np.zeros(8)\n",
    "            label[i-1] = 1\n",
    "            Y.append(label)\n",
    "\n",
    "    X_0 = np.stack(X_0)\n",
    "    X_1 = np.stack(X_1)\n",
    "    X_2 = np.stack(X_2)\n",
    "    X_3 = np.stack(X_3)\n",
    "    Y = np.stack(Y)    \n",
    "\n",
    "    history = model.fit([X_0,X_1,X_2,X_3],Y,batch_size=32,epochs=1,verbose=True,shuffle=True)\n",
    "    \n",
    "    if not (e+1)%50:\n",
    "        lr *= 0.8\n",
    "        adam = optimizers.Adam(lr)\n",
    "        model.compile(adam, loss='mean_squared_error')\n"
   ]
  },
  {
   "cell_type": "markdown",
   "metadata": {},
   "source": [
    "# Test model"
   ]
  },
  {
   "cell_type": "code",
   "execution_count": 22,
   "metadata": {},
   "outputs": [
    {
     "name": "stdout",
     "output_type": "stream",
     "text": [
      "Predict labels: [0 0 0 0 0 0 0 0 0 0 0 1 1 1 1 1 1 1 1 1 1 1 2 2 2 2 2 2 2 2 2 2 3 3 3 3 3\n",
      " 3 5 5 4 4 4 5 5 5 5 5 6 6 6 6 6 6 6 6 6 6 7 7 7 7 7 7 0 7]\n",
      "Ground truth labels: [0 0 0 0 0 0 0 0 0 0 0 1 1 1 1 1 1 1 1 1 1 1 2 2 2 2 2 2 2 2 2 2 3 3 3 3 3\n",
      " 3 3 3 4 4 4 5 5 5 5 5 6 6 6 6 6 6 6 6 6 6 7 7 7 7 7 7 7 7]\n"
     ]
    }
   ],
   "source": [
    "X_TEST_0 = []\n",
    "X_TEST_1 = []\n",
    "X_TEST_2 = []\n",
    "X_TEST_3 = []\n",
    "Y_TEST = []\n",
    "\n",
    "for i in range(1,9):\n",
    "    for j in range(len(test[i])):\n",
    "        p_0 = np.copy(test[i][j].T[:,:45])\n",
    "        p_0 = p_0.reshape([-1,15,3])\n",
    "        t_0 = p_0.shape[0]\n",
    "        # if the number of frame is more than 20, crop by scale 0.9, then rescale by interploration again\n",
    "        if t_0>=20: \n",
    "            p_0 = p_0[int(t_0*0.05):int(t_0*0.95),:,:]\n",
    "            p_0 = zoom(p_0)\n",
    "        elif t_0<20:\n",
    "            p_0 = zoom(p_0)\n",
    "        p_0_diff = p_0[1:,:,:]-p_0[:-1,:,:]\n",
    "        p_0_diff = np.concatenate((p_0_diff,np.expand_dims(p_0_diff[-1,:,:],axis=0)))\n",
    "        \n",
    "        p_1 = np.copy(test[i][j].T[:,45:])\n",
    "        p_1 = p_1.reshape([-1,15,3])\n",
    "        t_1 = p_1.shape[0]\n",
    "        if t_1 >=20:  \n",
    "            p_1 = p_1[int(t_1*0.05):int(t_1*0.95),:,:]\n",
    "            p_1 = zoom(p_1)\n",
    "        elif t_1 <20:\n",
    "            p_1 = zoom(p_1)\n",
    "        p_1_diff = p_1[1:,:,:]-p_1[:-1,:,:]\n",
    "        p_1_diff = np.concatenate((p_1_diff,np.expand_dims(p_1_diff[-1,:,:],axis=0)))\n",
    "\n",
    "        X_TEST_0.append(p_0)\n",
    "        X_TEST_1.append(p_0_diff)\n",
    "        X_TEST_2.append(p_1)\n",
    "        X_TEST_3.append(p_1_diff)\n",
    "        \n",
    "        label = np.zeros(8)\n",
    "        label[i-1] = 1\n",
    "        Y_TEST.append(label)\n",
    "\n",
    "X_TEST_0 = np.stack(X_TEST_0)\n",
    "X_TEST_1 = np.stack(X_TEST_1)\n",
    "X_TEST_2 = np.stack(X_TEST_2)\n",
    "X_TEST_3 = np.stack(X_TEST_3)\n",
    "Y_TEST = np.stack(Y_TEST)\n",
    "\n",
    "Y_pred = model.predict([X_TEST_0,X_TEST_1,X_TEST_2,X_TEST_3])\n",
    "\n",
    "print('Predict labels:',np.argmax(Y_pred,axis=1))\n",
    "print('Ground truth labels:',np.argmax(Y_TEST,axis=1))"
   ]
  },
  {
   "cell_type": "markdown",
   "metadata": {},
   "source": [
    "# Visulize the mirror augmentation"
   ]
  },
  {
   "cell_type": "code",
   "execution_count": 12,
   "metadata": {},
   "outputs": [
    {
     "name": "stderr",
     "output_type": "stream",
     "text": [
      "/home/fan/anaconda3/envs/keras/lib/python3.6/site-packages/matplotlib/cbook/deprecation.py:107: MatplotlibDeprecationWarning: Adding an axes using the same arguments as a previous axes currently reuses the earlier instance.  In a future version, a new instance will always be created and returned.  Meanwhile, this warning can be suppressed, and the future behavior ensured, by passing a unique label to each axes instance.\n",
      "  warnings.warn(message, mplDeprecation, stacklevel=1)\n"
     ]
    },
    {
     "data": {
      "image/png": "[encoded data removed]",
      "text/plain": [
       "<Figure size 432x288 with 1 Axes>"
      ]
     },
     "metadata": {},
     "output_type": "display_data"
    },
    {
     "data": {
      "image/png": "[encoded data removed]",
      "text/plain": [
       "<Figure size 432x288 with 1 Axes>"
      ]
     },
     "metadata": {},
     "output_type": "display_data"
    }
   ],
   "source": [
    "i = 10\n",
    "draw_2d_pose([p_0[i],p_1[i]])\n",
    "p_0_new, p_1_new = mirror(p_0,p_1)\n",
    "draw_2d_pose([p_0_new[i],p_1_new[i]])"
   ]
  },
  {
   "cell_type": "code",
   "execution_count": null,
   "metadata": {},
   "outputs": [],
   "source": []
  }
 ],
 "metadata": {
  "kernelspec": {
   "display_name": "Python 3",
   "language": "python",
   "name": "python3"
  },
  "language_info": {
   "codemirror_mode": {
    "name": "ipython",
    "version": 3
   },
   "file_extension": ".py",
   "mimetype": "text/x-python",
   "name": "python",
   "nbconvert_exporter": "python",
   "pygments_lexer": "ipython3",
   "version": "3.6.4"
  }
 },
 "nbformat": 4,
 "nbformat_minor": 2
}
